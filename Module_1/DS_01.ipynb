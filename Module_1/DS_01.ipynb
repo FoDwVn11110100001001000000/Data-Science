{
  "nbformat": 4,
  "nbformat_minor": 0,
  "metadata": {
    "colab": {
      "provenance": []
    },
    "kernelspec": {
      "name": "python3",
      "display_name": "Python 3"
    },
    "language_info": {
      "name": "python"
    }
  },
  "cells": [
    {
      "cell_type": "code",
      "source": [
        "import numpy as np\n",
        "import scipy"
      ],
      "metadata": {
        "id": "uTk3Z8fppY7A"
      },
      "execution_count": 2,
      "outputs": []
    },
    {
      "cell_type": "code",
      "source": [
        "# Створіть одновимірний масив (вектор) з першими 10-ма натуральними числами та виведіть його значення.\n",
        "print(np.arange(1, 11))"
      ],
      "metadata": {
        "colab": {
          "base_uri": "https://localhost:8080/"
        },
        "id": "qyzeItucU0WG",
        "outputId": "bdee219d-9cd0-4f4d-887d-d6f4bc899bac"
      },
      "execution_count": 8,
      "outputs": [
        {
          "output_type": "stream",
          "name": "stdout",
          "text": [
            "[ 1  2  3  4  5  6  7  8  9 10]\n"
          ]
        }
      ]
    },
    {
      "cell_type": "code",
      "source": [
        "# Створіть двовимірний масив (матрицю) розміром 3x3, заповніть його нулями та виведіть його значення.\n",
        "print(np.zeros((3, 3)))"
      ],
      "metadata": {
        "colab": {
          "base_uri": "https://localhost:8080/"
        },
        "id": "2dg-7lPIWc6R",
        "outputId": "57b2ccb2-debd-4ebd-c556-a3fe93cda3e3"
      },
      "execution_count": 13,
      "outputs": [
        {
          "output_type": "stream",
          "name": "stdout",
          "text": [
            "[[0. 0. 0.]\n",
            " [0. 0. 0.]\n",
            " [0. 0. 0.]]\n"
          ]
        }
      ]
    },
    {
      "cell_type": "code",
      "source": [
        "# Створіть масив розміром 5x5, заповніть його випадковими цілими числами в діапазоні від 1 до 10 та виведіть його значення.\n",
        "np.random.randint(1, 11, size=(5, 5))"
      ],
      "metadata": {
        "colab": {
          "base_uri": "https://localhost:8080/"
        },
        "id": "f93ch85FvQc2",
        "outputId": "5ef997b1-3a04-4a00-b8cd-7cb58093f551"
      },
      "execution_count": 15,
      "outputs": [
        {
          "output_type": "execute_result",
          "data": {
            "text/plain": [
              "array([[ 3, 10, 10,  2,  5],\n",
              "       [ 4,  6,  2,  9,  6],\n",
              "       [ 8,  5,  3,  6,  4],\n",
              "       [ 4, 10, 10,  5,  8],\n",
              "       [ 2, 10,  6,  7,  1]])"
            ]
          },
          "metadata": {},
          "execution_count": 15
        }
      ]
    },
    {
      "cell_type": "code",
      "source": [
        "# Створіть масив розміром 4x4, заповніть його випадковими дійсними числами в діапазоні від 0 до 1 та виведіть його значення.\n",
        "np.random.rand(4, 4)"
      ],
      "metadata": {
        "colab": {
          "base_uri": "https://localhost:8080/"
        },
        "id": "CTmdLOaJyv1E",
        "outputId": "e975451b-0061-499f-8d3c-66591b7142fe"
      },
      "execution_count": 17,
      "outputs": [
        {
          "output_type": "execute_result",
          "data": {
            "text/plain": [
              "array([[0.06305766, 0.55784621, 0.54351449, 0.25478141],\n",
              "       [0.96316431, 0.72807536, 0.31625493, 0.72258567],\n",
              "       [0.24392054, 0.31247784, 0.53806088, 0.38989375],\n",
              "       [0.27136722, 0.60524523, 0.63676783, 0.52799925]])"
            ]
          },
          "metadata": {},
          "execution_count": 17
        }
      ]
    },
    {
      "cell_type": "code",
      "source": [
        "# Створіть два одновимірних масиви розміром 5, заповніть їх випадковими цілими числами в діапазоні від 1 до 10 та виконайте на них поелементні операції додавання, віднімання та множення.\n",
        "first_array =  np.random.randint(1, 11, size=5)\n",
        "second_array =  np.random.randint(1, 11, size=5)\n",
        "\n",
        "plus = first_array + second_array\n",
        "minus = first_array - second_array\n",
        "multiply = first_array * second_array\n",
        "print(first_array)\n",
        "print(second_array)\n",
        "\n",
        "print(plus)\n",
        "print(minus)\n",
        "print(multiply)"
      ],
      "metadata": {
        "colab": {
          "base_uri": "https://localhost:8080/"
        },
        "id": "rRDskpblzO21",
        "outputId": "86817593-8f94-4416-90a8-8be0ac163688"
      },
      "execution_count": 31,
      "outputs": [
        {
          "output_type": "stream",
          "name": "stdout",
          "text": [
            "[3 1 7 6 2]\n",
            "[6 7 7 1 1]\n",
            "[ 9  8 14  7  3]\n",
            "[-3 -6  0  5  1]\n",
            "[18  7 49  6  2]\n"
          ]
        }
      ]
    },
    {
      "cell_type": "code",
      "source": [
        "# Створіть два вектори розміром 7, заповніть довільними числами та знайдіть їх скалярний добуток.\n",
        "vector1 = np.random.randint(1, 101, size=7)\n",
        "vector2 = np.random.randint(1, 101, size=7)\n",
        "\n",
        "print(vector1)\n",
        "print(vector2)\n",
        "print(np.dot(vector1, vector2))"
      ],
      "metadata": {
        "colab": {
          "base_uri": "https://localhost:8080/"
        },
        "id": "FtEexSTN38US",
        "outputId": "ed756491-885b-4c8b-d851-8bb4f89bd880"
      },
      "execution_count": 15,
      "outputs": [
        {
          "output_type": "stream",
          "name": "stdout",
          "text": [
            "[48 17 52 35 14 35  7]\n",
            "[12 78 20 17 10 63 72]\n",
            "6386\n"
          ]
        }
      ]
    },
    {
      "cell_type": "code",
      "source": [
        "# Створіть дві матриці розміром 2x2 та 2x3, заповніть їх випадковими цілими числами в діапазоні від 1 до 10 та перемножте їх між собою.\n",
        "matrix1 = np.random.randint(1, 11, size=(2, 2))\n",
        "matrix2 = np.random.randint(1, 11, size=(2, 3))\n",
        "\n",
        "print(np.dot(matrix1, matrix2))"
      ],
      "metadata": {
        "colab": {
          "base_uri": "https://localhost:8080/"
        },
        "id": "EbRTGO6TcJdL",
        "outputId": "459af6df-49d4-43df-bd2e-874e8f4065f3"
      },
      "execution_count": 6,
      "outputs": [
        {
          "output_type": "stream",
          "name": "stdout",
          "text": [
            "[[ 45  84  77]\n",
            " [ 72 135 126]]\n"
          ]
        }
      ]
    },
    {
      "cell_type": "code",
      "source": [
        "# Створіть матрицю розміром 3x3, заповніть її випадковими цілими числами в діапазоні від 1 до 10 та знайдіть її обернену матрицю.\n",
        "matrix = np.random.randint(1, 11, size=(3, 3))\n",
        "\n",
        "print(np.linalg.inv(matrix))"
      ],
      "metadata": {
        "colab": {
          "base_uri": "https://localhost:8080/"
        },
        "id": "bu9KuSvfdaHv",
        "outputId": "8065ef85-f6e8-4847-cfc5-2e79b314e521"
      },
      "execution_count": 10,
      "outputs": [
        {
          "output_type": "stream",
          "name": "stdout",
          "text": [
            "[[ 0.41666667  1.75       -1.66666667]\n",
            " [ 0.5         3.5        -3.        ]\n",
            " [-0.66666667 -4.          3.66666667]]\n"
          ]
        }
      ]
    },
    {
      "cell_type": "code",
      "source": [
        "# Створіть матрицю розміром 4x4, заповніть її випадковими дійсними числами в діапазоні від 0 до 1 та транспонуйте її.\n",
        "matrix = np.random.rand(4, 4)\n",
        "\n",
        "print(np.transpose(matrix))"
      ],
      "metadata": {
        "colab": {
          "base_uri": "https://localhost:8080/"
        },
        "id": "RinAvN4Be681",
        "outputId": "7cf87abb-37b4-4d80-dd78-aefc78f10e8b"
      },
      "execution_count": 13,
      "outputs": [
        {
          "output_type": "stream",
          "name": "stdout",
          "text": [
            "[[0.48132897 0.53154914 0.24984241 0.42038968]\n",
            " [0.34302429 0.77584993 0.45611169 0.75587841]\n",
            " [0.0944493  0.31924201 0.04231792 0.45529332]\n",
            " [0.89401972 0.09943106 0.28893001 0.38744106]]\n"
          ]
        }
      ]
    },
    {
      "cell_type": "code",
      "source": [
        "# Створіть матрицю розміром 3x4 та вектор розміром 4, заповніть їх випадковими цілими числами в діапазоні від 1 до 10 та перемножте матрицю на вектор.\n",
        "matrix = np.random.randint(1, 11, size=(3, 4))\n",
        "vector = np.random.randint(1, 11, size=4)\n",
        "\n",
        "print(np.dot(matrix, vector))"
      ],
      "metadata": {
        "colab": {
          "base_uri": "https://localhost:8080/"
        },
        "id": "sR0i5slDhV6q",
        "outputId": "b5c784d9-efb6-44ba-f463-c28b3e94ea6b"
      },
      "execution_count": 17,
      "outputs": [
        {
          "output_type": "stream",
          "name": "stdout",
          "text": [
            "[133  93  82]\n"
          ]
        }
      ]
    },
    {
      "cell_type": "code",
      "source": [
        "# Створіть матрицю розміром 2x3 та вектор розміром 3, заповніть їх випадковими дійсними числами в діапазоні від 0 до 1 та перемножте матрицю на вектор.\n",
        "matrix = np.random.rand(2, 3)\n",
        "vector = np.random.random(3)\n",
        "\n",
        "print(np.dot(matrix, vector))"
      ],
      "metadata": {
        "colab": {
          "base_uri": "https://localhost:8080/"
        },
        "id": "ERyzLrngoTsS",
        "outputId": "bc63c79a-92d5-41eb-800b-5d70839b0ae5"
      },
      "execution_count": 20,
      "outputs": [
        {
          "output_type": "stream",
          "name": "stdout",
          "text": [
            "[0.54767806 0.09454484]\n"
          ]
        }
      ]
    },
    {
      "cell_type": "code",
      "source": [
        "# Створіть дві матриці розміром 2x2, заповніть їх випадковими цілими числами в діапазоні від 1 до 10 та виконайте їхнє поелементне множення.\n",
        "matrix1 = np.random.randint(1, 11, size=(2, 2))\n",
        "matrix2 = np.random.randint(1, 11, size=(2, 2))\n",
        "\n",
        "print(np.multiply(matrix1, matrix2))"
      ],
      "metadata": {
        "colab": {
          "base_uri": "https://localhost:8080/"
        },
        "id": "j45223LypoUm",
        "outputId": "816e9716-672c-43a3-895f-3bfa48f5a5dc"
      },
      "execution_count": 22,
      "outputs": [
        {
          "output_type": "stream",
          "name": "stdout",
          "text": [
            "[[ 6 42]\n",
            " [63 10]]\n"
          ]
        }
      ]
    },
    {
      "cell_type": "code",
      "source": [
        "# Створіть дві матриці розміром 2x2, заповніть їх випадковими цілими числами в діапазоні від 1 до 10 та знайдіть їх добуток.\n",
        "matrix1 = np.random.randint(1, 11, size=(2, 2))\n",
        "matrix2 = np.random.randint(1, 11, size=(2, 2))\n",
        "\n",
        "print(np.dot(matrix1, matrix2))"
      ],
      "metadata": {
        "colab": {
          "base_uri": "https://localhost:8080/"
        },
        "id": "Oz6KXohiqgke",
        "outputId": "1293be78-c1fb-4157-abd1-34c51c225ef0"
      },
      "execution_count": 23,
      "outputs": [
        {
          "output_type": "stream",
          "name": "stdout",
          "text": [
            "[[29 28]\n",
            " [15 62]]\n"
          ]
        }
      ]
    },
    {
      "cell_type": "code",
      "source": [
        "# Створіть матрицю розміром 5x5, заповніть її випадковими цілими числами в діапазоні від 1 до 100 та знайдіть суму елементів матриці.\n",
        "matrix = np.random.randint(1, 101, size=(5, 5))\n",
        "print(np.sum(matrix))"
      ],
      "metadata": {
        "colab": {
          "base_uri": "https://localhost:8080/"
        },
        "id": "38r81pWQxHPK",
        "outputId": "86b9c239-c4e0-46d3-e552-28c11d153cd6"
      },
      "execution_count": 4,
      "outputs": [
        {
          "output_type": "stream",
          "name": "stdout",
          "text": [
            "1293\n"
          ]
        }
      ]
    },
    {
      "cell_type": "code",
      "source": [
        "# Створіть дві матриці розміром 4x4, заповніть їх випадковими цілими числами в діапазоні від 1 до 10 та знайдіть їхню різницю.\n",
        "matrix1 = np.random.randint(1, 101, size=(4, 4))\n",
        "matrix2 = np.random.randint(1, 101, size=(4, 4))\n",
        "\n",
        "print(matrix1 - matrix2)"
      ],
      "metadata": {
        "colab": {
          "base_uri": "https://localhost:8080/"
        },
        "id": "kEGv3pqYbGQt",
        "outputId": "c91f6a6e-dd96-4395-a7cf-d6489a53217f"
      },
      "execution_count": 5,
      "outputs": [
        {
          "output_type": "stream",
          "name": "stdout",
          "text": [
            "[[-60  37   0 -76]\n",
            " [-20  -9  11 -40]\n",
            " [ 26  46   5  38]\n",
            " [-73 -67  78  18]]\n"
          ]
        }
      ]
    },
    {
      "cell_type": "code",
      "source": [
        "# Створіть матрицю розміром 3x3, заповніть її випадковими дійсними числами в діапазоні від 0 до 1 та знайдіть вектор-стовпчик, що містить суму елементів кожного рядка матриці.\n",
        "matrix = np.random.rand(3, 3)\n",
        "\n",
        "print(matrix)\n",
        "row_sums = np.sum(matrix, axis=1, keepdims=True)\n",
        "print(row_sums)"
      ],
      "metadata": {
        "colab": {
          "base_uri": "https://localhost:8080/"
        },
        "id": "od6e4IxYcDcw",
        "outputId": "70c31b8c-ea8f-4e49-9b22-aee1b1386219"
      },
      "execution_count": 7,
      "outputs": [
        {
          "output_type": "stream",
          "name": "stdout",
          "text": [
            "[[0.39729021 0.13893907 0.27997992]\n",
            " [0.32732724 0.99885978 0.08301925]\n",
            " [0.33227844 0.05338056 0.03884611]]\n",
            "[[0.8162092 ]\n",
            " [1.40920628]\n",
            " [0.42450511]]\n"
          ]
        }
      ]
    },
    {
      "cell_type": "code",
      "source": [
        "# Створіть матрицю розміром 3x4 з довільними цілими числами і створінь матрицю з квадратами цих чисел.\n",
        "matrix = np.random.randint(1, 10, size=(3, 4))\n",
        "print(matrix)\n",
        "print(np.square(matrix))"
      ],
      "metadata": {
        "colab": {
          "base_uri": "https://localhost:8080/"
        },
        "id": "043XTc3_crpH",
        "outputId": "21194d3f-6f2c-4178-881b-078894ea65a7"
      },
      "execution_count": 11,
      "outputs": [
        {
          "output_type": "stream",
          "name": "stdout",
          "text": [
            "[[1 4 3 2]\n",
            " [6 2 8 4]\n",
            " [4 8 5 4]]\n",
            "[[ 1 16  9  4]\n",
            " [36  4 64 16]\n",
            " [16 64 25 16]]\n"
          ]
        }
      ]
    },
    {
      "cell_type": "code",
      "source": [
        "# Створіть вектор розміром 4, заповніть його випадковими цілими числами в діапазоні від 1 до 50 та знайдіть вектор з квадратними коренями цих чисел.\n",
        "vector = np.random.randint(1, 51, size=4)\n",
        "\n",
        "print(vector)\n",
        "print(np.sqrt(vector))"
      ],
      "metadata": {
        "colab": {
          "base_uri": "https://localhost:8080/"
        },
        "id": "H_a0bTs2jZcx",
        "outputId": "0cb8ef03-ed80-40a8-a450-55bdb262ce4e"
      },
      "execution_count": 13,
      "outputs": [
        {
          "output_type": "stream",
          "name": "stdout",
          "text": [
            "[43 30 31 40]\n",
            "[6.55743852 5.47722558 5.56776436 6.32455532]\n"
          ]
        }
      ]
    }
  ]
}